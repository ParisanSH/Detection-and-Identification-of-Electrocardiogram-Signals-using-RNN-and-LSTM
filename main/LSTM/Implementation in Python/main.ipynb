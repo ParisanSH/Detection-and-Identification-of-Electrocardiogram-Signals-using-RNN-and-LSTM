{
 "cells": [
  {
   "cell_type": "code",
   "execution_count": 9,
   "metadata": {
    "pycharm": {
     "name": "#%%\n"
    }
   },
   "outputs": [],
   "source": [
    "import os\n",
    "\n",
    "import numpy as np\n",
    "import pandas as pd\n",
    "\n",
    "import torch\n",
    "import torch.nn as nn\n",
    "import torch.optim as optim\n",
    "from torch.utils.data import Dataset, DataLoader\n",
    "import torchmetrics as metrics\n",
    "\n",
    "import pytorch_lightning as pl\n",
    "from pytorch_lightning.callbacks import ModelCheckpoint\n",
    "from pytorch_lightning.callbacks.early_stopping import EarlyStopping\n"
   ]
  },
  {
   "cell_type": "markdown",
   "metadata": {
    "pycharm": {
     "name": "#%% md\n"
    }
   },
   "source": [
    "# Preprocess\n"
   ]
  },
  {
   "cell_type": "code",
   "execution_count": 10,
   "metadata": {
    "pycharm": {
     "name": "#%%\n"
    }
   },
   "outputs": [],
   "source": [
    "class ECGDataset(Dataset):\n",
    "    def __init__(self, root_dir: str, window: int, split: str, normalize: bool):\n",
    "        assert split in ['train', 'test'], f'invalid split: {split}'\n",
    "        self.root_dir = root_dir\n",
    "        self.window = window\n",
    "        self.normalize = normalize\n",
    "\n",
    "        self.sample_files = [os.path.join(root_dir, f'samples_{x}.csv')\n",
    "                             for x in range(1, 74)\n",
    "                             if x != 15]\n",
    "        self.annotation_files = [os.path.join(root_dir, f'annotation_{x}.csv')\n",
    "                                 for x in range(1, 74)\n",
    "                                 if x != 15]\n",
    "\n",
    "        self.samples = np.vstack([pd.read_csv(f, names=['ECG'], skiprows=2, usecols=[1]).to_numpy()\n",
    "                                 for f in self.sample_files])\n",
    "        if normalize:\n",
    "            self.sample_std = np.std(self.samples)\n",
    "            self.sample_mean = np.mean(self.samples)\n",
    "            self.samples = self.samples.reshape(-1, 500)-self.sample_mean/self.sample_std\n",
    "        self.samples = self.samples.reshape(-1, 500)\n",
    "\n",
    "        self.annotation = np.vstack([pd.read_csv(f).to_numpy()\n",
    "                                    for f in self.annotation_files])\n",
    "        if normalize:\n",
    "            self.annotation_std = np.std(self.annotation)\n",
    "            self.annotation_mean = np.mean(self.annotation)\n",
    "\n",
    "        self.annotation = self.annotation.reshape(-1, 500)\n",
    "\n",
    "        if split == 'train':\n",
    "            self.samples = self.samples[:1300]\n",
    "            self.annotation = self.annotation[:1300]\n",
    "        elif split == 'test':\n",
    "            self.samples = self.samples[1300:]\n",
    "            self.annotation = self.annotation[1300:]\n",
    "\n",
    "    def __len__(self) -> int:\n",
    "        return self.samples.shape[0]\n",
    "\n",
    "    def __getitem__(self, idx: int):\n",
    "        output = np.zeros((500-self.window+1, self.window*2-1), dtype=np.float32)\n",
    "        labels = np.zeros(500-self.window+1, dtype=np.int32)\n",
    "        for i in range(500-self.window+1):\n",
    "            samples = self.samples[idx, i:i+self.window]\n",
    "            if self.normalize:\n",
    "                annotations = (self.annotation[idx, i:i+self.window-1]-self.annotation_mean)/self.annotation_std\n",
    "            else:\n",
    "                annotations = self.annotation[idx, i:i+self.window-1]\n",
    "            output[i, :] = np.hstack([samples,annotations]).reshape(-1)\n",
    "            labels[i] = self.annotation[idx, i+self.window-1]\n",
    "        return torch.from_numpy(output), torch.from_numpy(labels).long()\n"
   ]
  },
  {
   "cell_type": "markdown",
   "metadata": {
    "pycharm": {
     "name": "#%% md\n"
    }
   },
   "source": [
    "# LSTM Model\n"
   ]
  },
  {
   "cell_type": "code",
   "execution_count": 11,
   "metadata": {
    "pycharm": {
     "name": "#%%\n"
    }
   },
   "outputs": [],
   "source": [
    "class ECGClassifierModel(pl.LightningModule):\n",
    "    def __init__(self, input_size: int, hidden_size: int, num_layers: int, num_classes: int):\n",
    "        super(ECGClassifierModel, self).__init__()\n",
    "        self.input_size = input_size\n",
    "        self.hidden_size = hidden_size\n",
    "        self.num_classes = num_classes\n",
    "\n",
    "        self.lstm = nn.LSTM(input_size=input_size,\n",
    "                            hidden_size=hidden_size, num_layers=num_layers, batch_first=True, bidirectional=True)\n",
    "\n",
    "        self.fc1 = nn.Linear(hidden_size*2, self.num_classes)\n",
    "        # self.fc2 = nn.Linear(256, self.num_classes)\n",
    "\n",
    "        self.loss = nn.CrossEntropyLoss()\n",
    "        self.accuracy = metrics.Accuracy(num_classes=self.num_classes)\n",
    "\n",
    "    def configure_optimizers(self):\n",
    "        optimizer = optim.Adam(self.parameters(), lr=1e-3)\n",
    "        return optimizer\n",
    "\n",
    "    def training_step(self, train_batch, batch_idx):\n",
    "        x, y = train_batch\n",
    "        y_pred = self.forward(x)\n",
    "        loss = self.loss(y_pred.view(-1, self.num_classes), y.view(-1))\n",
    "        accuracy = self.accuracy(y_pred.view(-1, 4), y.view(-1))\n",
    "        self.log(\"train_accuracy\", accuracy)\n",
    "        self.log('train_loss', loss)\n",
    "        return loss\n",
    "\n",
    "    def test_step(self, batch, batch_idx):\n",
    "        x, y = batch\n",
    "        y_pred = self.forward(x)\n",
    "        test_loss = self.loss(y_pred.view(-1, self.num_classes), y.view(-1))\n",
    "        test_accuracy = self.accuracy(y_pred.view(-1, 4), y.view(-1))\n",
    "        self.log(\"test_accuracy\", test_accuracy)\n",
    "        self.log(\"test_loss\", test_loss)\n",
    "\n",
    "    def forward(self, x):\n",
    "        out, (ht, ct) = self.lstm(x)\n",
    "        y_pred = self.fc1(out)\n",
    "        return y_pred\n"
   ]
  },
  {
   "cell_type": "code",
   "execution_count": 12,
   "metadata": {},
   "outputs": [],
   "source": [
    "train_ds = ECGDataset(root_dir=\"./dataset/\",\n",
    "                        window=5, split='train', normalize=False)\n",
    "train_dl = DataLoader(train_ds, batch_size=8,\n",
    "                        shuffle=False, generator=torch.random.manual_seed(1))\n",
    "\n",
    "test_ds = ECGDataset(root_dir=\"./dataset/\", window=5,\n",
    "                        split='test', normalize=False)\n",
    "test_dl = DataLoader(test_ds, batch_size=8)\n"
   ]
  },
  {
   "cell_type": "code",
   "execution_count": 13,
   "metadata": {},
   "outputs": [
    {
     "name": "stdout",
     "output_type": "stream",
     "text": [
      "tensor(1.4161, grad_fn=<NllLossBackward0>)\n",
      "tensor(0.0801)\n"
     ]
    }
   ],
   "source": [
    "model = ECGClassifierModel(\n",
    "            input_size=9, hidden_size=16, num_layers=1, num_classes=4)\n",
    "for batch in train_dl:\n",
    "    x,y = batch\n",
    "    out = model(x)\n",
    "    print(model.loss(out.view(-1, 4),y.view(-1)))\n",
    "    print(model.accuracy(out.view(-1, 4), y.view(-1)))\n",
    "    break\n"
   ]
  },
  {
   "cell_type": "code",
   "execution_count": 14,
   "metadata": {},
   "outputs": [
    {
     "name": "stdout",
     "output_type": "stream",
     "text": [
      "torch.Size([8, 496, 4])\n",
      "torch.Size([8, 496])\n"
     ]
    },
    {
     "data": {
      "text/plain": [
       "tensor([[0, 0, 0,  ..., 2, 2, 2],\n",
       "        [2, 2, 2,  ..., 0, 0, 0],\n",
       "        [0, 0, 0,  ..., 0, 0, 2],\n",
       "        ...,\n",
       "        [1, 1, 1,  ..., 0, 0, 0],\n",
       "        [0, 0, 0,  ..., 0, 0, 0],\n",
       "        [0, 0, 0,  ..., 0, 0, 0]])"
      ]
     },
     "execution_count": 14,
     "metadata": {},
     "output_type": "execute_result"
    }
   ],
   "source": [
    "print(out.shape)\n",
    "print(y.shape)\n",
    "y"
   ]
  },
  {
   "cell_type": "code",
   "execution_count": 15,
   "metadata": {},
   "outputs": [],
   "source": [
    "def create_and_fit(window: list, batch_size: int, normalize: bool, hidden_size: int):\n",
    "    for w in window:\n",
    "        train_ds = ECGDataset(root_dir=\"./dataset/\",\n",
    "                              window=w, split='train', normalize=normalize)\n",
    "        train_dl = DataLoader(train_ds, batch_size=batch_size,\n",
    "                              shuffle=False, generator=torch.random.manual_seed(1),\n",
    "                              num_workers=os.cpu_count())\n",
    "\n",
    "        test_ds = ECGDataset(root_dir=\"./dataset/\", window=w,\n",
    "                             split='test', normalize=normalize)\n",
    "        test_dl = DataLoader(test_ds, batch_size=batch_size,\n",
    "                             num_workers=os.cpu_count())\n",
    "\n",
    "        checkpoint_callback = ModelCheckpoint(\n",
    "            save_top_k=10,\n",
    "            monitor=\"train_loss\",\n",
    "            mode=\"min\",\n",
    "            filename=f\"ecg-lstm-normalized-window={w}-{{epoch:02d}}-{{train_loss:.2f}}\",\n",
    "            save_last=True,\n",
    "            every_n_epochs=5\n",
    "        )\n",
    "        early_stopping_callback = EarlyStopping(\n",
    "            monitor=\"train_loss\", min_delta=0.01, mode=\"min\", patience=2)\n",
    "\n",
    "        input_size = w*2-1\n",
    "        hidden_size = hidden_size\n",
    "        model = ECGClassifierModel(\n",
    "            input_size=input_size, hidden_size=hidden_size, num_layers=1, num_classes=4)\n",
    "        trainer = pl.Trainer(max_epochs=20, accelerator='gpu', devices=1,\n",
    "                             log_every_n_steps=10, callbacks=[checkpoint_callback, early_stopping_callback])\n",
    "        trainer.fit(model, train_dl)\n",
    "        trainer.test(model, dataloaders=test_dl)\n"
   ]
  },
  {
   "cell_type": "code",
   "execution_count": 16,
   "metadata": {},
   "outputs": [
    {
     "name": "stderr",
     "output_type": "stream",
     "text": [
      "GPU available: True (cuda), used: True\n",
      "TPU available: False, using: 0 TPU cores\n",
      "IPU available: False, using: 0 IPUs\n",
      "HPU available: False, using: 0 HPUs\n",
      "LOCAL_RANK: 0 - CUDA_VISIBLE_DEVICES: [0]\n",
      "\n",
      "  | Name     | Type             | Params\n",
      "----------------------------------------------\n",
      "0 | lstm     | LSTM             | 11.0 K\n",
      "1 | fc1      | Linear           | 260   \n",
      "2 | loss     | CrossEntropyLoss | 0     \n",
      "3 | accuracy | Accuracy         | 0     \n",
      "----------------------------------------------\n",
      "11.3 K    Trainable params\n",
      "0         Non-trainable params\n",
      "11.3 K    Total params\n",
      "0.045     Total estimated model params size (MB)\n"
     ]
    },
    {
     "data": {
      "application/vnd.jupyter.widget-view+json": {
       "model_id": "f3363e1e1f15468597b121a59efb0778",
       "version_major": 2,
       "version_minor": 0
      },
      "text/plain": [
       "Training: 0it [00:00, ?it/s]"
      ]
     },
     "metadata": {},
     "output_type": "display_data"
    },
    {
     "name": "stderr",
     "output_type": "stream",
     "text": [
      "LOCAL_RANK: 0 - CUDA_VISIBLE_DEVICES: [0]\n"
     ]
    },
    {
     "data": {
      "application/vnd.jupyter.widget-view+json": {
       "model_id": "da0c2e58c281446f8aad8411b26d3e10",
       "version_major": 2,
       "version_minor": 0
      },
      "text/plain": [
       "Testing: 0it [00:00, ?it/s]"
      ]
     },
     "metadata": {},
     "output_type": "display_data"
    },
    {
     "name": "stdout",
     "output_type": "stream",
     "text": [
      "────────────────────────────────────────────────────────────────────────────────────────────────────────────────────────\n",
      "       Test metric             DataLoader 0\n",
      "────────────────────────────────────────────────────────────────────────────────────────────────────────────────────────\n",
      "      test_accuracy         0.9515876770019531\n",
      "        test_loss           0.13021698594093323\n",
      "────────────────────────────────────────────────────────────────────────────────────────────────────────────────────────\n"
     ]
    },
    {
     "name": "stderr",
     "output_type": "stream",
     "text": [
      "GPU available: True (cuda), used: True\n",
      "TPU available: False, using: 0 TPU cores\n",
      "IPU available: False, using: 0 IPUs\n",
      "HPU available: False, using: 0 HPUs\n",
      "LOCAL_RANK: 0 - CUDA_VISIBLE_DEVICES: [0]\n",
      "\n",
      "  | Name     | Type             | Params\n",
      "----------------------------------------------\n",
      "0 | lstm     | LSTM             | 13.6 K\n",
      "1 | fc1      | Linear           | 260   \n",
      "2 | loss     | CrossEntropyLoss | 0     \n",
      "3 | accuracy | Accuracy         | 0     \n",
      "----------------------------------------------\n",
      "13.8 K    Trainable params\n",
      "0         Non-trainable params\n",
      "13.8 K    Total params\n",
      "0.055     Total estimated model params size (MB)\n"
     ]
    },
    {
     "data": {
      "application/vnd.jupyter.widget-view+json": {
       "model_id": "09e9a669e7c444bab6d34a36316a5d72",
       "version_major": 2,
       "version_minor": 0
      },
      "text/plain": [
       "Training: 0it [00:00, ?it/s]"
      ]
     },
     "metadata": {},
     "output_type": "display_data"
    },
    {
     "name": "stderr",
     "output_type": "stream",
     "text": [
      "LOCAL_RANK: 0 - CUDA_VISIBLE_DEVICES: [0]\n"
     ]
    },
    {
     "data": {
      "application/vnd.jupyter.widget-view+json": {
       "model_id": "77b0f2e06de14f148c2e9ee1b514fdf3",
       "version_major": 2,
       "version_minor": 0
      },
      "text/plain": [
       "Testing: 0it [00:00, ?it/s]"
      ]
     },
     "metadata": {},
     "output_type": "display_data"
    },
    {
     "name": "stdout",
     "output_type": "stream",
     "text": [
      "────────────────────────────────────────────────────────────────────────────────────────────────────────────────────────\n",
      "       Test metric             DataLoader 0\n",
      "────────────────────────────────────────────────────────────────────────────────────────────────────────────────────────\n",
      "      test_accuracy          0.966446042060852\n",
      "        test_loss           0.09857232868671417\n",
      "────────────────────────────────────────────────────────────────────────────────────────────────────────────────────────\n"
     ]
    },
    {
     "name": "stderr",
     "output_type": "stream",
     "text": [
      "GPU available: True (cuda), used: True\n",
      "TPU available: False, using: 0 TPU cores\n",
      "IPU available: False, using: 0 IPUs\n",
      "HPU available: False, using: 0 HPUs\n",
      "LOCAL_RANK: 0 - CUDA_VISIBLE_DEVICES: [0]\n",
      "\n",
      "  | Name     | Type             | Params\n",
      "----------------------------------------------\n",
      "0 | lstm     | LSTM             | 16.1 K\n",
      "1 | fc1      | Linear           | 260   \n",
      "2 | loss     | CrossEntropyLoss | 0     \n",
      "3 | accuracy | Accuracy         | 0     \n",
      "----------------------------------------------\n",
      "16.4 K    Trainable params\n",
      "0         Non-trainable params\n",
      "16.4 K    Total params\n",
      "0.066     Total estimated model params size (MB)\n"
     ]
    },
    {
     "data": {
      "application/vnd.jupyter.widget-view+json": {
       "model_id": "97ee6af27d164b8890b3c65d0917a5b7",
       "version_major": 2,
       "version_minor": 0
      },
      "text/plain": [
       "Training: 0it [00:00, ?it/s]"
      ]
     },
     "metadata": {},
     "output_type": "display_data"
    },
    {
     "name": "stderr",
     "output_type": "stream",
     "text": [
      "LOCAL_RANK: 0 - CUDA_VISIBLE_DEVICES: [0]\n"
     ]
    },
    {
     "data": {
      "application/vnd.jupyter.widget-view+json": {
       "model_id": "209d492beb534bd7a47a76176904aaa2",
       "version_major": 2,
       "version_minor": 0
      },
      "text/plain": [
       "Testing: 0it [00:00, ?it/s]"
      ]
     },
     "metadata": {},
     "output_type": "display_data"
    },
    {
     "name": "stdout",
     "output_type": "stream",
     "text": [
      "────────────────────────────────────────────────────────────────────────────────────────────────────────────────────────\n",
      "       Test metric             DataLoader 0\n",
      "────────────────────────────────────────────────────────────────────────────────────────────────────────────────────────\n",
      "      test_accuracy         0.9593364000320435\n",
      "        test_loss           0.11901750415563583\n",
      "────────────────────────────────────────────────────────────────────────────────────────────────────────────────────────\n"
     ]
    }
   ],
   "source": [
    "create_and_fit(window=[5, 10, 15], batch_size=20,\n",
    "               normalize=False, hidden_size=32)\n"
   ]
  }
 ],
 "metadata": {
  "kernelspec": {
   "display_name": "Python 3.10.4 ('AI-torch')",
   "language": "python",
   "name": "python3"
  },
  "language_info": {
   "codemirror_mode": {
    "name": "ipython",
    "version": 3
   },
   "file_extension": ".py",
   "mimetype": "text/x-python",
   "name": "python",
   "nbconvert_exporter": "python",
   "pygments_lexer": "ipython3",
   "version": "3.9.12"
  },
  "orig_nbformat": 4,
  "vscode": {
   "interpreter": {
    "hash": "e90a434e7c11a2d8d8a46efcfc5ef044f6540f994cbf113bcbe30fa3174ea26a"
   }
  }
 },
 "nbformat": 4,
 "nbformat_minor": 2
}
